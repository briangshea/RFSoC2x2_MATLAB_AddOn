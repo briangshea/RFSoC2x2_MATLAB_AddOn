{
 "cells": [
  {
   "cell_type": "markdown",
   "metadata": {},
   "source": [
    "# HDL Coder Support Package for RFSoc 2x2 XUP Board Introduction\n",
    "----\n",
    "\n",
    "<!-- div class=\"alert alert-box alert-info\">\n",
    "Please use Jupyter labs http://board_ip_address/lab for this notebook.\n",
    "</div -->\n",
    "\n",
    "This notebook presents an introduction to the RF Data\n",
    "Converters (RF DCs) on the RFSoC2x2 board using MATLAB Generated IP Cores.\n",
    "\n",
    "## Aims\n",
    "* Describe the `xrfdc` Python package that is required to control and\n",
    "  configure the RF DCs from Jupyter\n",
    "* Describe the modified RFSubsysem to access the modified RF Hierarchy\n",
    "* Investigate the new radio hierarchy in the base overlay, allowing the\n",
    "  user to develop very simple to very complex RF designs. \n",
    "* Present the data inspection and visualisation of the RF DCs using \n",
    "  Plotly.\n",
    "\n",
    "## Table of Contents\n",
    "* [Introduction](#introduction)\n",
    "* [Hardware Setup](#hardware-setup)\n",
    "* [File Access Setup](#FileAccess-setup)\n",
    "* [The Radio Hierarchy](#radio-hierarchy)\n",
    "* [Transmitter and Receiver](#the-transmitter-and-receiver)\n",
    "* [RF Data Inspection](#rf-data-inspection)\n",
    "* [Conclusion](#conclusion)\n",
    "\n",
    "## References\n",
    "* [Xilinx, Inc, \"USP RF Data Converter: LogiCORE IP Product Guide\", PG269, v2.3, June 2020](https://www.xilinx.com/support/documentation/ip_documentation/usp_rf_data_converter/v2_3/pg269-rf-data-converter.pdf)\n",
    "* [Xilinx, Inc, \"Vivado Design Suite: The AXI Reference Guide\", UG1037, v4.0, June 2017](https://www.xilinx.com/support/documentation/ip_documentation/axi_ref_guide/latest/ug1037-vivado-axi-reference-guide.pdf)\n",
    "* [HDL Coder](https://www.mathworks.com/products/hdl-coder.html?s_tid=srchtitle_HDL%20Coder_1)\n",
    "* [Getting Started with the HDL Workflow Advisor](https://www.mathworks.com/help/hdlcoder/ug/using-the-hdl-workflow-advisor-window.html?s_tid=srchtitle_hdl%2520workflow%2520advisor_2)\n",
    "\n",
    "Credits: This introdcution is based on the 01_rf_dataconverter_introdcution.ipynb from Xilinx and has been modifided for this example.\n",
    "\n",
    "## Revision History\n",
    "\n",
    "* v1.0 | 02/13/2022 | First notebook revision."
   ]
  },
  {
   "cell_type": "markdown",
   "metadata": {},
   "source": [
    "----\n",
    "\n",
    "## Introduction <a class=\"anchor\" id=\"introduction\"></a>\n",
    "\n",
    "An overview of the Zynq RFSoC device with MATLAB Overlay is shown below; there are\n",
    "four major components:\n",
    "\n",
    "* Processing System (PS)\n",
    "* Programmable Logic (PL)\n",
    "* MATLAB Overload\n",
    "* RF Data Converters (RF DC, including ADC and DAC)\n",
    "\n",
    "The RF data converters are significant features of the Zynq RFSoC\n",
    "device as they interface directly to the PL.\n",
    "This brings many advantages, including the ability to\n",
    "perform direct RF sampling and low-latency processing.\n",
    "\n",
    "The RFSoC2x2 platform consists of a xczu28dr-ffvg1517 RFSoC device, \n",
    "which contains the following RF DCs:\n",
    "\n",
    "* 8x RF Analogue-to-Digital Converters (RF ADCs)\n",
    "    * Sample rate of 4 GSPS\n",
    "    * 12-bit conversion\n",
    "* 8x RF Digital-to-Analogue Converters (RF DACs)\n",
    "    * Sample rate of 6.5 GSPS\n",
    "    * 14-bit conversion"
   ]
  },
  {
   "cell_type": "markdown",
   "metadata": {},
   "source": [
    "<br><img src='data/MATLAB_System.png' align='left' style='left' height='50%' width='50%'/>"
   ]
  },
  {
   "cell_type": "markdown",
   "metadata": {},
   "source": [
    "Let's take a closer look at the RF DC block. Starting with\n",
    "the RF ADC tiles, you will notice that there are 4 tiles on this\n",
    "particular RFSoC device. Each tile contains 2 RF ADC blocks, \n",
    "which can be used to receive, or Digital Down Convert (DDC), \n",
    "an analogue signal. Each RF ADC block contains:\n",
    "\n",
    "* A gearbox FIFO\n",
    "* 2x, 4x, or 8x decimator\n",
    "* A complex mixer\n",
    "* A Quadrature Modulation Correction (QMC) unit\n",
    "\n",
    "The image below presents the typical RF ADC processing \n",
    "pipeline:\n",
    "\n",
    "1. The RF ADC samples the input waveform to convert it\n",
    "   into a digital signal.\n",
    "2. A threshold detector can be employed to detect and record\n",
    "   input amplitude levels. \n",
    "3. The QMC is used to offset potential imbalance in the\n",
    "   quality of the received complex signal.\n",
    "4. The I and Q mixer can mix the input signal to baseband.\n",
    "5. The I and Q decimators is capable of 2x, 4x, or 8x\n",
    "   decimation before interfacing the PL via the gearbox FIFO."
   ]
  },
  {
   "cell_type": "markdown",
   "metadata": {},
   "source": [
    "<img src='data/rfsystem_rfadc_block_overview.png' align='left' style='left' height='75%' width='75%'/>"
   ]
  },
  {
   "cell_type": "markdown",
   "metadata": {},
   "source": [
    "The RF DAC block has a similar pipeline to the RF ADC;\n",
    "however, it is in reverse this time for Digital Up Conversion (DUC).\n",
    "\n",
    "1. The data to be transmitted is interfaced to the RF DAC block from the PL.\n",
    "2. The digital signal is interpolated by a factor of 2x, 4x, or 8x.\n",
    "3. The digital signal is transferred to the complex mixer to be mixed\n",
    "   to the desired carrier frequency. \n",
    "4. After the QMC and coarse delay block, the signal can optionally\n",
    "   be convolved with an inverse (anti) sinc filter to improve the\n",
    "   roll-off of the first Nyquist zone.\n",
    "5. The digital signal is then converted to analogue through the\n",
    "   RF DAC sampler.\n"
   ]
  },
  {
   "cell_type": "markdown",
   "metadata": {},
   "source": [
    "<img src='data/rfsystem_rfdac_block_overview.png' align='left' style='left' height='75%' width='75%'/>"
   ]
  },
  {
   "cell_type": "markdown",
   "metadata": {},
   "source": [
    "In this notebook, we will be demonstrating many of the features\n",
    "mentioned above via a simple loopback example.\n",
    "\n",
    "## Hardware Setup <a class=\"anchor\" id=\"hardware-setup\"></a>\n",
    "\n",
    "Your RFSoC2x2 board is dual-channel. Notice that there are only\n",
    "4 SMAs on your board, labeled DAC1, DAC2, ADC1, and ADC2.\n",
    "Only two sets of RF ADC and RF DAC channels are accessible on\n",
    "the RFSoC2x2 board.\n",
    "\n",
    "You should create the loopback connection using SMA cables\n",
    "as shown below:\n",
    "\n",
    "* Channel 0: DAC2 to ADC2\n",
    "* Channel 1: DAC1 to ADC1\n",
    "\n",
    "See the image below for a demonstration."
   ]
  },
  {
   "cell_type": "markdown",
   "metadata": {},
   "source": [
    "<img src='data/rfsoc2x2_connections.jpg' align='left' style='left' width='40%' height='40%'/>"
   ]
  },
  {
   "cell_type": "markdown",
   "metadata": {},
   "source": [
    "<div class=\"alert alert-heading alert-danger\">\n",
    "    <h4 class=\"alert-heading\">Warning:</h4>\n",
    "\n",
    "In this demo we are transmitting signals via cables.\n",
    "This device can also transmit wireless signals. \n",
    "Keep in mind that unlicensed transmission of wireless signals\n",
    "may be illegal in your location. \n",
    "Radio signals may also interfere with nearby devices,\n",
    "such as pacemakers and emergency radio equipment. \n",
    "If you are unsure, please seek professional support.\n",
    "</div>\n",
    "\n",
    "----"
   ]
  },
  {
   "cell_type": "markdown",
   "metadata": {},
   "source": [
    "## File Access Setup <a class=\"anchor\" id=\"FileAccess-setup\"></a>\n",
    "\n",
    "Files can be transfered to the RFSoC using an SSH browser session or windows file share. Below is an example of how to configure linux to use SSH server connection. NOTE: default xilinx passwork may have to be set."
   ]
  },
  {
   "cell_type": "markdown",
   "metadata": {},
   "source": [
    "<img src='data/MATLAB_connect_to_server.png' align='left' style='left' width='40%' height='40%'/>"
   ]
  },
  {
   "cell_type": "markdown",
   "metadata": {},
   "source": [
    "## The Radio Hierarchy <a class=\"anchor\" id=\"radio-hierarchy\"></a>\n",
    "\n",
    "We need to add custom control logic in the PL to communicate\n",
    "with the RF ADC or RF DAC. The MATLAB RFSoC2x2 base overlay contains\n",
    "such logic that will allow you to use the RF DCs. \n",
    "There are two major hierarchies - the transmitter and the receiver.\n",
    "\n",
    "* **Amplitude Controller** - can apply a value to the input of the RF DAC.\n",
    "The value can be set by writing to an AXI-Lite register. \n",
    "The register value can be mixed with the Numerically\n",
    "Controlled Oscillator (NCO) in the fine mixer to create a tone. \n",
    "The tone is looped back round into the RF ADC.\n",
    "\n",
    "* **I/Q DMA & Stream Synchronizer** - can transmit real-time I/Q data to the RF DAC.\n",
    "The I/Q DMA channel sends I/Q data to the user IP Core for further processing. \n",
    "I/Q Data is synchronized such that I/Q samples arrive at the user IP on the same\n",
    "clock cycles.\n",
    "\n",
    "* **AXI Stream Switch** - selects the I/Q data source.\n",
    "The AXI Stream switch allows the user to control where I/Q Data samples are generated\n",
    "from, either the Amplitude Generator or the User IP Core can be selected independatly \n",
    "for either channel.\n",
    "\n",
    "* **Packet Generator** - interfaces to the output of RF ADC block. \n",
    "The data is used to generate an [AXI-Stream packet](https://www.xilinx.com/support/documentation/ip_documentation/axi_ref_guide/latest/ug1037-vivado-axi-reference-guide.pdf).\n",
    "The AXI-Stream packet is sent to an AXI Direct Memory\n",
    "Access (DMA) core and transferred to DDR memory.\n",
    "\n",
    "These IP cores are connected to each channel of the RFSoC2x2 board.\n",
    "They are conveniently placed inside a hierarchical block, `radio`, \n",
    "as shown below.\n",
    "\n",
    "In addition to the I/Q data stream to/from the RF Tiles, the Numerically Controlled \n",
    "Oscialltors (NCO) and Threshhold Detection signals have been provided to the User IP.\n",
    "These signals can be used to dirctly configure the NCO's Frequency and Phase. They can\n",
    "be ignored and the NCO can still be controlled from the PYNQ system. NOTE: both methods\n",
    "of controlling the NCO work congruently and the last write to the NCO's control registers\n",
    "takes effect. \n",
    "\n",
    "**NOTE:** If using the NCO control from User IP is is best to provide a control\n",
    "register within the User IP to set the center operating frequency and only allow the IP\n",
    "to adjust the frequency within a range of that center frequency. Otherwise, the system\n",
    "could transmit in undeiscred frequency ranges."
   ]
  },
  {
   "cell_type": "markdown",
   "metadata": {},
   "source": [
    "<img src='data/MATLAB_radio_hierarchy.png' align='left' style='left' height='60%' width='60%'/>"
   ]
  },
  {
   "cell_type": "markdown",
   "metadata": {},
   "source": [
    "Let's now download the base overlay and initialize the drivers."
   ]
  },
  {
   "cell_type": "code",
   "execution_count": null,
   "metadata": {
    "scrolled": true
   },
   "outputs": [],
   "source": [
    "# MATLABOverlay contains the Hierarchy control code and is a \n",
    "# derivate work of the original rfsysstem from Xilinx.\n",
    "from MATLABOverlay import MATLABOverlay\n",
    "\n",
    "# Import the Example user IP Core interface code\n",
    "import MATLABExample_ip_0\n",
    "\n",
    "base = MATLABOverlay('./MATLABOverlay/base.bit', ignore_version=True)\n",
    "myIP = base.OFDM_RCVR_ip_0"
   ]
  },
  {
   "cell_type": "markdown",
   "metadata": {},
   "source": [
    "The RFSoC2x2 has a sophisticated clocking network, which can generate\n",
    "low-jitter clocks for the RF DC Phase-Locked Loops (PLLs). The base overlay\n",
    "has a simple method to initialize these clocks. Run the cell below to set\n",
    "the LMK and LMX clocks to 122.88MHz and 409.6MHz, respectively."
   ]
  },
  {
   "cell_type": "code",
   "execution_count": null,
   "metadata": {},
   "outputs": [],
   "source": [
    "base.init_rf_clks()"
   ]
  },
  {
   "cell_type": "markdown",
   "metadata": {},
   "source": [
    "Now we will investigate the `radio` hierarchy."
   ]
  },
  {
   "cell_type": "code",
   "execution_count": null,
   "metadata": {},
   "outputs": [],
   "source": [
    "# Display the base documentation\n",
    "base?"
   ]
  },
  {
   "cell_type": "markdown",
   "metadata": {},
   "source": [
    "We can see the `transmitter` and `receiver` hierarchies. \n",
    "The RF DC object is also available, however, we don't need this. The reason\n",
    "is that each transmitter and receiver is automatically paired with their\n",
    "associated RF DC tile and block.\n",
    "\n",
    "The `radio` hierarchy also initializes all of the active RF ADC and RF DAC\n",
    "blocks to sample at 4096 GSPS (the maximum sample rate for the RF ADC).\n",
    "By default the RF DAC and RF ADC mixer frequencies are 1024 MHz, which is\n",
    "in the center of the first Nyquist Zone."
   ]
  },
  {
   "cell_type": "markdown",
   "metadata": {},
   "source": [
    "## Transmitter Data Source Selection\n",
    "The transmitter hierarchy contains a source selection switch. The switch can select the Amplitude Generator that genrates a constant Complex waveform or the MATLAB IP Core. Selection settings are:\n",
    "  ```\n",
    "  0 - Samples from Amplitude Controller\n",
    "  1 - Samples from MATLAB IP Core\n",
    "  ```"
   ]
  },
  {
   "cell_type": "code",
   "execution_count": null,
   "metadata": {},
   "outputs": [],
   "source": [
    "# Select IP Core for this demo\n",
    "for i in range(0, len(base.radio.transmitter.channel)):\n",
    "    base.radio.transmitter.channel[i].source.selection = 1\n",
    "    base.radio.transmitter.channel[i].source.disabled = False\n",
    "    base.radio.transmitter.channel[i].source.commit()\n",
    "\n",
    "myIP.adc_capture_reset()"
   ]
  },
  {
   "cell_type": "markdown",
   "metadata": {},
   "source": [
    "## Transmitter and Receiver <a class=\"anchor\" id=\"the-transmitter-and-receiver\"></a>\n",
    "\n",
    "The transmitter hierarchy contains two channels. Each channel contains an\n",
    "*Amplitude Controller* connected directly to an RF DAC. We can list the\n",
    "available channels of the transmitter using the `get_channel_description()`\n",
    "method."
   ]
  },
  {
   "cell_type": "code",
   "execution_count": null,
   "metadata": {},
   "outputs": [],
   "source": [
    "base.radio.transmitter.get_channel_description()"
   ]
  },
  {
   "cell_type": "markdown",
   "metadata": {},
   "source": [
    "The report above states that there are two active channels in the system.\n",
    "\n",
    "The receiver hierarchy also contains two channels. The *Packet Generator*\n",
    "arranges the data into AXI-Stream packets and sends these packets to DDR\n",
    "memory via AXI DMA. Let's run the cell below."
   ]
  },
  {
   "cell_type": "code",
   "execution_count": null,
   "metadata": {},
   "outputs": [],
   "source": [
    "base.radio.receiver.get_channel_description()"
   ]
  },
  {
   "cell_type": "markdown",
   "metadata": {},
   "source": [
    "There are several methods to read and write to RF block registers.\n",
    "These methods are common to the RF DAC and RF ADC.\n",
    "\n",
    "```python\n",
    "BlockStatus\n",
    "MixerSettings\n",
    "QMCSettings\n",
    "CoarseDelaySettings\n",
    "NyquistZone\n",
    "```\n",
    "\n",
    "For example, `base.radio.transmitter.channel[0].dac_block.QMCSettings`\n",
    "will display the QMC settings for the transmit DAC block.\n",
    "\n",
    "For many of these settings, you can change them and they will impact the operation."
   ]
  },
  {
   "cell_type": "code",
   "execution_count": null,
   "metadata": {},
   "outputs": [],
   "source": [
    "base.radio.transmitter.channel[0].dac_block.MixerSettings['Freq'] = 500\n",
    "base.radio.transmitter.channel[0].dac_block.MixerSettings['MixerMode'] = 2\n",
    "base.radio.transmitter.channel[0].dac_block.MixerSettings"
   ]
  },
  {
   "cell_type": "markdown",
   "metadata": {},
   "source": [
    "Another example you can try:\n",
    "```python\n",
    "base.radio.receiver.channel[0].adc_block.CoarseDelaySettings\n",
    "```\n",
    "\n",
    "To further investigate the RF ADC and RF DAC, you can run the code cell below."
   ]
  },
  {
   "cell_type": "code",
   "execution_count": null,
   "metadata": {},
   "outputs": [],
   "source": [
    "help(base.radio.transmitter.channel[0].dac_block)"
   ]
  },
  {
   "cell_type": "markdown",
   "metadata": {},
   "source": [
    "More to try:\n",
    "```python\n",
    "help(base.radio.transmitter.channel[0].dac_tile)\n",
    "help(base.radio.receiver.channel[0].adc_block)\n",
    "help(base.radio.receiver.channel[0].adc_tile)\n",
    "```\n",
    "Many of these attributes / methods depend on the configuration\n",
    "of the PL and the hardware. You will need to implement your own hardware \n",
    "design if you want to do something else."
   ]
  },
  {
   "cell_type": "markdown",
   "metadata": {},
   "source": [
    "## RF Data Inspection <a class=\"anchor\" id=\"rf-data-inspection\"></a>\n",
    "\n",
    "Now that you have a fundamental understanding of how to control the RF DCs, \n",
    "we can inspect RF data using the radio hierarchy block. To make it more\n",
    "interesting, we generate stimulus using the RF DAC block for each channel. \n",
    "Let's configure the mixer frequencies for each RF-DAC block channel below.\n",
    "\n",
    "The RF-ADC block mixer frequency can also be tuned. It can be tuned via the\n",
    "MATLAB IP core or via the MixerSettings on the channel."
   ]
  },
  {
   "cell_type": "code",
   "execution_count": null,
   "metadata": {},
   "outputs": [],
   "source": [
    "import plotly.graph_objs as go\n",
    "import numpy as np\n",
    "import ipywidgets as ipw"
   ]
  },
  {
   "cell_type": "code",
   "execution_count": null,
   "metadata": {},
   "outputs": [],
   "source": [
    "# Command IP Core to tune ADC Frequency\n",
    "myIP = base.OFDM_RCVR_ip_0\n",
    "myIP.adc0_freq(0)\n",
    "myIP.adc0_update()\n",
    "\n",
    "#base.radio.receiver.channel[0].adc_block.MixerSettings['Freq'] = 1024\n",
    "\n",
    "# Read back the new MixerSetting to show IP Core upoated\n",
    "base.radio.receiver.channel[0].adc_block.MixerSettings"
   ]
  },
  {
   "cell_type": "markdown",
   "metadata": {},
   "source": [
    "Firstly, we will define the numbers of samples to be transferred. \n",
    "The range of samples that can be transferred is between 16 to 32768.\n",
    "Running the code cell below, will transfer complex data."
   ]
  },
  {
   "cell_type": "code",
   "execution_count": null,
   "metadata": {},
   "outputs": [],
   "source": [
    "number_samples = 1024\n",
    "base.radio.receiver.channel[0].setup_buffer(number_samples)\n",
    "base.radio.receiver.channel[1].setup_buffer(number_samples)"
   ]
  },
  {
   "cell_type": "code",
   "execution_count": null,
   "metadata": {},
   "outputs": [],
   "source": [
    "# Initiate the capture\n",
    "myIP.adc_capture_reset()\n",
    "cdata = []\n",
    "for i in range(0, 1):\n",
    "    base.radio.receiver.channel[i].initiate()\n",
    "\n",
    "# Create a range of x values used to generate data to send to DAC\n",
    "x = np.linspace(0, 1, 2**10)\n",
    "\n",
    "# Create I/Q data using constant amplitude\n",
    "re_samples = np.ones(number_samples)*.5\n",
    "im_samples = np.ones(number_samples)*.5\n",
    "   \n",
    "# Create rectangular window\n",
    "window = np.ones(number_samples)\n",
    "\n",
    "# Apply simple window rectangular\n",
    "wre_samples = np.multiply(window, re_samples)\n",
    "wim_samples = np.multiply(window, im_samples)\n",
    "\n",
    "# Create complex waveform to send to Transmitter\n",
    "samples = wre_samples + 1j * wim_samples\n",
    "\n",
    "base.radio.transmitter.channel[0].transfer(samples)\n",
    "cdata.append(samples)\n",
    "\n",
    "# Wait for passthru core to detect and capture samples\n",
    "for i in range(0, 1):\n",
    "    print(\"Waiting on {0}\".format(i))\n",
    "    base.radio.receiver.channel[i].wait()\n",
    "    base.radio.receiver.channel[i].stop()\n",
    "    cdata.append(base.radio.receiver.channel[i].fetch())\n"
   ]
  },
  {
   "cell_type": "markdown",
   "metadata": {},
   "source": [
    "Now that we have complex channel data in Jupyter, we can import plotly, numpy,\n",
    "and ipwidgets to enable data visualization."
   ]
  },
  {
   "cell_type": "markdown",
   "metadata": {},
   "source": [
    "The data can be plotted using `go.Scatter` and `go.FigureWidget` for each channel. Ipywidgets allows each figure to be displayed at the same time."
   ]
  },
  {
   "cell_type": "code",
   "execution_count": null,
   "metadata": {
    "scrolled": true
   },
   "outputs": [],
   "source": [
    "sample_frequency = 2048e6\n",
    "figs = []\n",
    "\n",
    "for i in range(0, 1):\n",
    "    plt_re_temp = (go.Scatter(\n",
    "            x = np.arange(0, number_samples/sample_frequency, \n",
    "                          1/sample_frequency),\n",
    "            y = np.real(cdata[i]), name='Real'))\n",
    "    plt_im_temp = (go.Scatter(\n",
    "            x = np.arange(0, number_samples/sample_frequency, \n",
    "                          1/sample_frequency),\n",
    "            y = np.imag(cdata[i]), name='Imag'))\n",
    "    figs.append(go.FigureWidget(data = [plt_re_temp, plt_im_temp],\n",
    "            layout = {'title': ''.join(['Time Domain Plot of DAC Channel ', \n",
    "                                         str(i)]), \n",
    "                      'xaxis': {'title' : 'Seconds (s)',\n",
    "                                'autorange' : True},\n",
    "                      'yaxis' : {'title' : 'Amplitude (V)'}}))\n",
    "    \n",
    "for i in range(1, len(cdata)):\n",
    "    plt_re_temp = (go.Scatter(\n",
    "            x = np.arange(0, number_samples/sample_frequency, \n",
    "                          1/sample_frequency),\n",
    "            y = np.real(cdata[i]), name='Real'))\n",
    "    plt_im_temp = (go.Scatter(\n",
    "            x = np.arange(0, number_samples/sample_frequency, \n",
    "                          1/sample_frequency),\n",
    "            y = np.imag(cdata[i]), name='Imag'))\n",
    "    figs.append(go.FigureWidget(data = [plt_re_temp, plt_im_temp],\n",
    "            layout = {'title': ''.join(['Time Domain Plot of ADC Channel ', \n",
    "                                         str(i-1)]), \n",
    "                      'xaxis': {'title' : 'Seconds (s)',\n",
    "                                'autorange' : True},\n",
    "                      'yaxis' : {'title' : 'Amplitude (V)'}}))\n",
    "\n",
    "ipw.VBox(figs)"
   ]
  },
  {
   "cell_type": "code",
   "execution_count": null,
   "metadata": {},
   "outputs": [],
   "source": [
    "from scipy import signal\n",
    "#from scipy import fft, fftshift\n",
    "from scipy.fftpack import fft, fftshift\n",
    "\n",
    "window = np.blackman(number_samples)\n",
    "freq = np.linspace(-1024, 1024-1/number_samples, number_samples)\n",
    "samps = np.linspace(0, number_samples/sample_frequency, number_samples)\n",
    "\n",
    "figs = []\n",
    "\n",
    "for i in range(0, len(cdata)): \n",
    "    wcdata = np.multiply(window, cdata[i])\n",
    "    \n",
    "    #wind_re_plt = go.Scatter(x=samps, y=np.real(wcdata), name=\"ADC{0} I\".format(i))\n",
    "    #wind_im_plt = go.Scatter(x=samps, y=np.imag(wcdata), name=\"ADC{0} Q\".format(i))\n",
    "    #figs.append(go.FigureWidget(data=[wind_re_plt, wind_im_plt]))\n",
    "    \n",
    "    mag = 20 * np.log10(np.abs((fft(wcdata, number_samples))))\n",
    "    fft_plt = go.Scatter(x=freq, y=mag, name=\"ADC{0}\".format(i))\n",
    "    \n",
    "    figs.append(go.FigureWidget(data=[fft_plt]))\n",
    "    \n",
    "ipw.VBox(figs)"
   ]
  },
  {
   "cell_type": "markdown",
   "metadata": {},
   "source": [
    "## Conclusion <a class=\"anchor\" id=\"conclusion\"></a>\n",
    "\n",
    "This notebook has presented a simple introduction to the MATLAP IP Core Generation to access the RF Data Converters. \n",
    "The RF DCs were briefly described and a radio hierarchy in PL was explored.\n",
    "RF data visualization was performed using `plotly`, `ipywidgets`, and `numpy` in Jupyter.\n"
   ]
  },
  {
   "cell_type": "markdown",
   "metadata": {},
   "source": [
    "Copyright (C) 2021 Xilinx, Inc\n",
    "\n",
    "SPDX-License-Identifier: BSD-3-Clause\n",
    "\n",
    "Copyright (C) 2022 Brian G. Shea\n",
    "\n",
    "SPDX-License-Identifier: BSD-3-Clause\n",
    "\n",
    "----\n",
    "\n",
    "----"
   ]
  },
  {
   "cell_type": "code",
   "execution_count": null,
   "metadata": {},
   "outputs": [],
   "source": []
  }
 ],
 "metadata": {
  "kernelspec": {
   "display_name": "Python 3",
   "language": "python",
   "name": "python3"
  },
  "language_info": {
   "codemirror_mode": {
    "name": "ipython",
    "version": 3
   },
   "file_extension": ".py",
   "mimetype": "text/x-python",
   "name": "python",
   "nbconvert_exporter": "python",
   "pygments_lexer": "ipython3",
   "version": "3.8.2"
  },
  "widgets": {
   "application/vnd.jupyter.widget-state+json": {
    "state": {},
    "version_major": 2,
    "version_minor": 0
   }
  }
 },
 "nbformat": 4,
 "nbformat_minor": 4
}
